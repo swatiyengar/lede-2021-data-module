{
 "cells": [
  {
   "cell_type": "markdown",
   "metadata": {},
   "source": [
    "# Data module class 1 walkthroughs\n",
    "1. [Markdown reference](#markdown-reference)\n",
    "1. [Pseudocoding reference](#pseudocoding-reference)\n",
    "1. [Bulletproofing your data, pseudocode and documentation practice](#bulletproofing-your-data)"
   ]
  },
  {
   "cell_type": "markdown",
   "metadata": {},
   "source": [
    "## Markdown reference\n",
    "\n",
    "```\n",
    "# Heading 1\n",
    "\n",
    "* Unordered list\n",
    "* Unordered list\n",
    "\n",
    "## Heading 2\n",
    "\n",
    "1. Ordered list\n",
    "1. Ordered list\n",
    "\n",
    "### Heading 3\n",
    "\n",
    "**Bold**\n",
    "\n",
    "#### Heading 4\n",
    "\n",
    "_Italics_\n",
    "\n",
    "##### Heading 5\n",
    "\n",
    "[Link](https://google.com)\n",
    "\n",
    "###### Heading 6\n",
    "```"
   ]
  },
  {
   "cell_type": "markdown",
   "metadata": {},
   "source": [
    "## Pseudocoding reference\n",
    "\n",
    "![Pseudocoding keywords](media/pseudocode-keywords.png)\n",
    "Source: [Sara A. Metwalli - Toward Data Science](https://towardsdatascience.com/pseudocode-101-an-introduction-to-writing-good-pseudocode-1331cb855be7)"
   ]
  },
  {
   "cell_type": "markdown",
   "metadata": {},
   "source": [
    "## 2. Bulletproofing your data\n",
    "### Reference\n",
    "- [Bulletproofing your data - ProPublica](https://github.com/propublica/guides/blob/master/data-bulletproofing.md)\n",
    "- [The Quartz guide to bad data](https://github.com/Quartz/bad-data-guide)"
   ]
  },
  {
   "cell_type": "code",
   "execution_count": 2,
   "metadata": {},
   "outputs": [],
   "source": [
    "# import your libraries here\n",
    "import pandas as pd"
   ]
  },
  {
   "cell_type": "markdown",
   "metadata": {},
   "source": [
    "### Practice\n",
    "#### FED board of directors (together)\n",
    "##### 1. Download\n",
    "[Diversity in the FED - Brookings Institute](https://www.brookings.edu/research/diversity-within-the-federal-reserve-system/) | [Documentation](https://www.brookings.edu/wp-content/uploads/2021/04/Biographical-Database-Overview.pdf) | [Brooklings Analysis](https://www.brookings.edu/wp-content/uploads/2021/04/Appendices-Directors-by-race-gender-and-bank.pdf)"
   ]
  },
  {
   "cell_type": "code",
   "execution_count": 3,
   "metadata": {},
   "outputs": [],
   "source": [
    "# GET excel file from assets/ folder\n",
    "df_bod = pd.read_excel('assets/Biographical-database-BoD-Unique-Positions.xlsx')"
   ]
  },
  {
   "cell_type": "code",
   "execution_count": 5,
   "metadata": {},
   "outputs": [
    {
     "name": "stdout",
     "output_type": "stream",
     "text": [
      "<class 'pandas.core.frame.DataFrame'>\n",
      "RangeIndex: 2607 entries, 0 to 2606\n",
      "Data columns (total 31 columns):\n",
      " #   Column                Non-Null Count  Dtype  \n",
      "---  ------                --------------  -----  \n",
      " 0   Name                  2607 non-null   object \n",
      " 1   District Number       2607 non-null   int64  \n",
      " 2   District Name         2607 non-null   object \n",
      " 3   Class                 2607 non-null   object \n",
      " 4   Group                 1393 non-null   float64\n",
      " 5   TD1: Degree           2607 non-null   object \n",
      " 6   TD1: Major/Field      2607 non-null   object \n",
      " 7   TD1: School           2607 non-null   object \n",
      " 8   TD1: Year             2607 non-null   object \n",
      " 9   TD2: Degree           2607 non-null   object \n",
      " 10  TD2: Major/Field      2607 non-null   object \n",
      " 11  TD2: School           2607 non-null   object \n",
      " 12  TD2: Year             2606 non-null   object \n",
      " 13  City                  2606 non-null   object \n",
      " 14  State                 2607 non-null   object \n",
      " 15  Job Title             2607 non-null   object \n",
      " 16  Organization          2607 non-null   object \n",
      " 17  Sector                2607 non-null   object \n",
      " 18  Race                  2607 non-null   object \n",
      " 19  Gender                2607 non-null   object \n",
      " 20  Birth Year            2607 non-null   object \n",
      " 21  Age at Start          2607 non-null   object \n",
      " 22  FOMC Combined         2607 non-null   object \n",
      " 23  FOMC Pre-reorg        2607 non-null   object \n",
      " 24  FOMC Pre Start Year   2607 non-null   object \n",
      " 25  FOMC Pre End Year     2607 non-null   object \n",
      " 26  FOMC Post-reorg       2607 non-null   object \n",
      " 27  FOMC Post Start Year  2607 non-null   object \n",
      " 28  FOMC Post End Year    2607 non-null   object \n",
      " 29  Start Year (pos.)     2607 non-null   int64  \n",
      " 30  End Year (pos.)       2607 non-null   object \n",
      "dtypes: float64(1), int64(2), object(28)\n",
      "memory usage: 631.5+ KB\n"
     ]
    }
   ],
   "source": [
    "df_bod.info()"
   ]
  },
  {
   "cell_type": "markdown",
   "metadata": {},
   "source": [
    "##### 2. Follow Quartz's guide to bad data: Issues that your source should solve\n",
    "[Issues that your source should solve](https://github.com/Quartz/bad-data-guide#issues-that-your-source-should-solve)\n",
    "\n",
    "##### Only start with documentation, then move to pseudocode, then start writing python"
   ]
  },
  {
   "cell_type": "markdown",
   "metadata": {},
   "source": [
    "Checking for missing data"
   ]
  },
  {
   "cell_type": "markdown",
   "metadata": {},
   "source": [
    "#### New York State budget (individual)\n",
    "##### 1. Download and save to assets folder\n",
    "[NY State budget and actuals](https://openbudget.ny.gov/spendingForm.html) (Click the download link at the bottom of the page)"
   ]
  },
  {
   "cell_type": "code",
   "execution_count": null,
   "metadata": {},
   "outputs": [],
   "source": []
  },
  {
   "cell_type": "markdown",
   "metadata": {},
   "source": [
    "##### 2. Follow Quartz's guide to bad data: Issues that your source should solve\n",
    "[Issues that your source should solve](https://github.com/Quartz/bad-data-guide#issues-that-your-source-should-solve)\n",
    "\n",
    "##### Only start with documentation, then move to pseudocode, then start writing python"
   ]
  },
  {
   "cell_type": "code",
   "execution_count": null,
   "metadata": {},
   "outputs": [],
   "source": []
  },
  {
   "cell_type": "markdown",
   "metadata": {},
   "source": [
    "#### New York City payroll (individual)\n",
    "##### 1. Download and save to assets folder\n",
    "[Citywide payroll data - filter by fiscal year 2020](https://data.cityofnewyork.us/City-Government/Citywide-Payroll-Data-Fiscal-Year-/k397-673e/data) then export as a CSV or else the file will be too large"
   ]
  },
  {
   "cell_type": "code",
   "execution_count": 4,
   "metadata": {},
   "outputs": [],
   "source": []
  },
  {
   "cell_type": "markdown",
   "metadata": {},
   "source": [
    "##### 2. Follow Quartz's guide to bad data: Issues that your source should solve\n",
    "[Issues that your source should solve](https://github.com/Quartz/bad-data-guide#issues-that-your-source-should-solve)\n",
    "\n",
    "##### Only start with documentation, then move to pseudocode, then start writing python"
   ]
  }
 ],
 "metadata": {
  "kernelspec": {
   "display_name": "Python 3",
   "language": "python",
   "name": "python3"
  },
  "language_info": {
   "codemirror_mode": {
    "name": "ipython",
    "version": 3
   },
   "file_extension": ".py",
   "mimetype": "text/x-python",
   "name": "python",
   "nbconvert_exporter": "python",
   "pygments_lexer": "ipython3",
   "version": "3.8.10"
  }
 },
 "nbformat": 4,
 "nbformat_minor": 4
}
