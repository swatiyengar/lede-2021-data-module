{
 "cells": [
  {
   "cell_type": "markdown",
   "id": "10c347b9-d41a-4978-9bad-6c9819d688ed",
   "metadata": {},
   "source": [
    "# Census API\n",
    "## Table of contents\n",
    "1. [American Community Survey](#1.-American-Community-Survey)\n",
    "    1. [Single table](#a.-Single-table)\n",
    "    1. [Group of tables](#b.-Group-of-tables)\n",
    "1. [County Business Patterns](#2.-County-Business-Patterns)"
   ]
  },
  {
   "cell_type": "code",
   "execution_count": 31,
   "id": "de937f80-407e-4c12-8a48-fa23aa305771",
   "metadata": {},
   "outputs": [],
   "source": [
    "import pandas as pd\n",
    "import requests"
   ]
  },
  {
   "cell_type": "code",
   "execution_count": 32,
   "id": "20807a26-896b-4f32-acbf-7a027e41d95e",
   "metadata": {},
   "outputs": [],
   "source": [
    "api_key = ''"
   ]
  },
  {
   "cell_type": "markdown",
   "id": "2e38d2f6-0235-46cb-918a-785174bfd082",
   "metadata": {},
   "source": [
    "## 1. American Community Survey\n",
    "- [List of groups](https://api.census.gov/data/2019/acs/acs5/groups.html)\n",
    "- [List of variables](https://api.census.gov/data/2019/acs/acs5/variables.html)\n",
    "- [Understanding table IDs](https://www.census.gov/programs-surveys/acs/guidance/which-data-tool/table-ids-explained.html)\n",
    "\n",
    "### There are three main parameters to know\n",
    "1. key - register for an API key\n",
    "1. get - table or group ID\n",
    "1. for - geography\n",
    "    1. county\n",
    "    1. state\n",
    "    1. cbsa"
   ]
  },
  {
   "cell_type": "code",
   "execution_count": 10,
   "id": "e9a5084e-dcff-4815-9d55-a2fa7132ab4b",
   "metadata": {},
   "outputs": [],
   "source": [
    "acs5_endpoint = 'https://api.census.gov/data/2019/acs/acs5'"
   ]
  },
  {
   "cell_type": "markdown",
   "id": "277e58bd-ef1e-4666-a6cc-318fd82312b8",
   "metadata": {},
   "source": [
    "### a. Single table"
   ]
  },
  {
   "cell_type": "code",
   "execution_count": 8,
   "id": "6247e231-2898-4239-87ca-e6a7e93dd1af",
   "metadata": {},
   "outputs": [],
   "source": [
    "# get a single table (population)\n",
    "acs5_params = {\n",
    "    'key': api_key,\n",
    "    'get': 'B01001_001E',\n",
    "    'for': 'state'\n",
    "}"
   ]
  },
  {
   "cell_type": "code",
   "execution_count": 11,
   "id": "371d8ae4-9b56-431b-9ac7-72442b60d9b1",
   "metadata": {},
   "outputs": [],
   "source": [
    "acs5_r = requests.get(acs5_endpoint, params=acs5_params)"
   ]
  },
  {
   "cell_type": "code",
   "execution_count": 12,
   "id": "75264449-b1ff-4da0-b91a-52b24d2633f2",
   "metadata": {},
   "outputs": [
    {
     "data": {
      "text/plain": [
       "[['B01001_001E', 'state'],\n",
       " ['4876250', '01'],\n",
       " ['737068', '02'],\n",
       " ['7050299', '04'],\n",
       " ['2999370', '05']]"
      ]
     },
     "execution_count": 12,
     "metadata": {},
     "output_type": "execute_result"
    }
   ],
   "source": [
    "acs5_r.json()[0:5]"
   ]
  },
  {
   "cell_type": "code",
   "execution_count": 13,
   "id": "06000b44-aa77-46b9-9658-6281a1bd3a52",
   "metadata": {},
   "outputs": [],
   "source": [
    "acs5_df = pd.DataFrame(acs5_r.json()[1:], columns=acs5_r.json()[0])"
   ]
  },
  {
   "cell_type": "code",
   "execution_count": 14,
   "id": "5e788979-5bfc-4954-98de-b09df02a1cbe",
   "metadata": {},
   "outputs": [
    {
     "data": {
      "text/html": [
       "<div>\n",
       "<style scoped>\n",
       "    .dataframe tbody tr th:only-of-type {\n",
       "        vertical-align: middle;\n",
       "    }\n",
       "\n",
       "    .dataframe tbody tr th {\n",
       "        vertical-align: top;\n",
       "    }\n",
       "\n",
       "    .dataframe thead th {\n",
       "        text-align: right;\n",
       "    }\n",
       "</style>\n",
       "<table border=\"1\" class=\"dataframe\">\n",
       "  <thead>\n",
       "    <tr style=\"text-align: right;\">\n",
       "      <th></th>\n",
       "      <th>B01001_001E</th>\n",
       "      <th>state</th>\n",
       "    </tr>\n",
       "  </thead>\n",
       "  <tbody>\n",
       "    <tr>\n",
       "      <th>0</th>\n",
       "      <td>4876250</td>\n",
       "      <td>01</td>\n",
       "    </tr>\n",
       "    <tr>\n",
       "      <th>1</th>\n",
       "      <td>737068</td>\n",
       "      <td>02</td>\n",
       "    </tr>\n",
       "    <tr>\n",
       "      <th>2</th>\n",
       "      <td>7050299</td>\n",
       "      <td>04</td>\n",
       "    </tr>\n",
       "    <tr>\n",
       "      <th>3</th>\n",
       "      <td>2999370</td>\n",
       "      <td>05</td>\n",
       "    </tr>\n",
       "    <tr>\n",
       "      <th>4</th>\n",
       "      <td>39283497</td>\n",
       "      <td>06</td>\n",
       "    </tr>\n",
       "  </tbody>\n",
       "</table>\n",
       "</div>"
      ],
      "text/plain": [
       "  B01001_001E state\n",
       "0     4876250    01\n",
       "1      737068    02\n",
       "2     7050299    04\n",
       "3     2999370    05\n",
       "4    39283497    06"
      ]
     },
     "execution_count": 14,
     "metadata": {},
     "output_type": "execute_result"
    }
   ],
   "source": [
    "acs5_df.head()"
   ]
  },
  {
   "cell_type": "markdown",
   "id": "487bc445-63f1-4015-a3c1-73c979e54434",
   "metadata": {},
   "source": [
    "### b. Group of tables"
   ]
  },
  {
   "cell_type": "code",
   "execution_count": 15,
   "id": "a5a0c496-b32f-4f3a-a233-0d099e813f09",
   "metadata": {},
   "outputs": [],
   "source": [
    "# lets change the get parameter to get a group\n",
    "acs5_params['get'] = 'group(B01001)'"
   ]
  },
  {
   "cell_type": "code",
   "execution_count": 16,
   "id": "abdd22dc-cea9-4070-a1a1-951915ba9a7f",
   "metadata": {},
   "outputs": [],
   "source": [
    "acs5_r = requests.get(acs5_endpoint, params=acs5_params)"
   ]
  },
  {
   "cell_type": "code",
   "execution_count": 19,
   "id": "91987f6d-180f-4981-86b7-b885b9e3b6c6",
   "metadata": {},
   "outputs": [],
   "source": [
    "acs5_df = pd.DataFrame(acs5_r.json()[1:], columns=acs5_r.json()[0])"
   ]
  },
  {
   "cell_type": "code",
   "execution_count": 21,
   "id": "e82bc19a-2a77-4121-ab3c-0bcfc72ea297",
   "metadata": {},
   "outputs": [
    {
     "data": {
      "text/html": [
       "<div>\n",
       "<style scoped>\n",
       "    .dataframe tbody tr th:only-of-type {\n",
       "        vertical-align: middle;\n",
       "    }\n",
       "\n",
       "    .dataframe tbody tr th {\n",
       "        vertical-align: top;\n",
       "    }\n",
       "\n",
       "    .dataframe thead th {\n",
       "        text-align: right;\n",
       "    }\n",
       "</style>\n",
       "<table border=\"1\" class=\"dataframe\">\n",
       "  <thead>\n",
       "    <tr style=\"text-align: right;\">\n",
       "      <th></th>\n",
       "      <th>B01001_001E</th>\n",
       "      <th>B01001_001EA</th>\n",
       "      <th>B01001_001M</th>\n",
       "      <th>B01001_001MA</th>\n",
       "      <th>B01001_002E</th>\n",
       "      <th>B01001_002EA</th>\n",
       "      <th>B01001_002M</th>\n",
       "      <th>B01001_002MA</th>\n",
       "      <th>B01001_003E</th>\n",
       "      <th>B01001_003EA</th>\n",
       "      <th>...</th>\n",
       "      <th>B01001_048EA</th>\n",
       "      <th>B01001_048M</th>\n",
       "      <th>B01001_048MA</th>\n",
       "      <th>B01001_049E</th>\n",
       "      <th>B01001_049EA</th>\n",
       "      <th>B01001_049M</th>\n",
       "      <th>B01001_049MA</th>\n",
       "      <th>GEO_ID</th>\n",
       "      <th>NAME</th>\n",
       "      <th>state</th>\n",
       "    </tr>\n",
       "  </thead>\n",
       "  <tbody>\n",
       "    <tr>\n",
       "      <th>0</th>\n",
       "      <td>4876250</td>\n",
       "      <td>None</td>\n",
       "      <td>-555555555</td>\n",
       "      <td>*****</td>\n",
       "      <td>2359355</td>\n",
       "      <td>None</td>\n",
       "      <td>1270</td>\n",
       "      <td>None</td>\n",
       "      <td>149090</td>\n",
       "      <td>None</td>\n",
       "      <td>...</td>\n",
       "      <td>None</td>\n",
       "      <td>1175</td>\n",
       "      <td>None</td>\n",
       "      <td>56419</td>\n",
       "      <td>None</td>\n",
       "      <td>1311</td>\n",
       "      <td>None</td>\n",
       "      <td>0400000US01</td>\n",
       "      <td>Alabama</td>\n",
       "      <td>01</td>\n",
       "    </tr>\n",
       "    <tr>\n",
       "      <th>1</th>\n",
       "      <td>737068</td>\n",
       "      <td>None</td>\n",
       "      <td>-555555555</td>\n",
       "      <td>*****</td>\n",
       "      <td>384915</td>\n",
       "      <td>None</td>\n",
       "      <td>401</td>\n",
       "      <td>None</td>\n",
       "      <td>27062</td>\n",
       "      <td>None</td>\n",
       "      <td>...</td>\n",
       "      <td>None</td>\n",
       "      <td>396</td>\n",
       "      <td>None</td>\n",
       "      <td>3981</td>\n",
       "      <td>None</td>\n",
       "      <td>339</td>\n",
       "      <td>None</td>\n",
       "      <td>0400000US02</td>\n",
       "      <td>Alaska</td>\n",
       "      <td>02</td>\n",
       "    </tr>\n",
       "    <tr>\n",
       "      <th>2</th>\n",
       "      <td>7050299</td>\n",
       "      <td>None</td>\n",
       "      <td>-555555555</td>\n",
       "      <td>*****</td>\n",
       "      <td>3504509</td>\n",
       "      <td>None</td>\n",
       "      <td>349</td>\n",
       "      <td>None</td>\n",
       "      <td>221817</td>\n",
       "      <td>None</td>\n",
       "      <td>...</td>\n",
       "      <td>None</td>\n",
       "      <td>1623</td>\n",
       "      <td>None</td>\n",
       "      <td>78983</td>\n",
       "      <td>None</td>\n",
       "      <td>1869</td>\n",
       "      <td>None</td>\n",
       "      <td>0400000US04</td>\n",
       "      <td>Arizona</td>\n",
       "      <td>04</td>\n",
       "    </tr>\n",
       "    <tr>\n",
       "      <th>3</th>\n",
       "      <td>2999370</td>\n",
       "      <td>None</td>\n",
       "      <td>-555555555</td>\n",
       "      <td>*****</td>\n",
       "      <td>1471760</td>\n",
       "      <td>None</td>\n",
       "      <td>979</td>\n",
       "      <td>None</td>\n",
       "      <td>96986</td>\n",
       "      <td>None</td>\n",
       "      <td>...</td>\n",
       "      <td>None</td>\n",
       "      <td>973</td>\n",
       "      <td>None</td>\n",
       "      <td>37257</td>\n",
       "      <td>None</td>\n",
       "      <td>939</td>\n",
       "      <td>None</td>\n",
       "      <td>0400000US05</td>\n",
       "      <td>Arkansas</td>\n",
       "      <td>05</td>\n",
       "    </tr>\n",
       "    <tr>\n",
       "      <th>4</th>\n",
       "      <td>39283497</td>\n",
       "      <td>None</td>\n",
       "      <td>-555555555</td>\n",
       "      <td>*****</td>\n",
       "      <td>19526298</td>\n",
       "      <td>None</td>\n",
       "      <td>1141</td>\n",
       "      <td>None</td>\n",
       "      <td>1254607</td>\n",
       "      <td>None</td>\n",
       "      <td>...</td>\n",
       "      <td>None</td>\n",
       "      <td>3482</td>\n",
       "      <td>None</td>\n",
       "      <td>451736</td>\n",
       "      <td>None</td>\n",
       "      <td>3547</td>\n",
       "      <td>None</td>\n",
       "      <td>0400000US06</td>\n",
       "      <td>California</td>\n",
       "      <td>06</td>\n",
       "    </tr>\n",
       "  </tbody>\n",
       "</table>\n",
       "<p>5 rows × 199 columns</p>\n",
       "</div>"
      ],
      "text/plain": [
       "  B01001_001E B01001_001EA B01001_001M B01001_001MA B01001_002E B01001_002EA  \\\n",
       "0     4876250         None  -555555555        *****     2359355         None   \n",
       "1      737068         None  -555555555        *****      384915         None   \n",
       "2     7050299         None  -555555555        *****     3504509         None   \n",
       "3     2999370         None  -555555555        *****     1471760         None   \n",
       "4    39283497         None  -555555555        *****    19526298         None   \n",
       "\n",
       "  B01001_002M B01001_002MA B01001_003E B01001_003EA  ... B01001_048EA  \\\n",
       "0        1270         None      149090         None  ...         None   \n",
       "1         401         None       27062         None  ...         None   \n",
       "2         349         None      221817         None  ...         None   \n",
       "3         979         None       96986         None  ...         None   \n",
       "4        1141         None     1254607         None  ...         None   \n",
       "\n",
       "  B01001_048M B01001_048MA B01001_049E B01001_049EA B01001_049M B01001_049MA  \\\n",
       "0        1175         None       56419         None        1311         None   \n",
       "1         396         None        3981         None         339         None   \n",
       "2        1623         None       78983         None        1869         None   \n",
       "3         973         None       37257         None         939         None   \n",
       "4        3482         None      451736         None        3547         None   \n",
       "\n",
       "        GEO_ID        NAME state  \n",
       "0  0400000US01     Alabama    01  \n",
       "1  0400000US02      Alaska    02  \n",
       "2  0400000US04     Arizona    04  \n",
       "3  0400000US05    Arkansas    05  \n",
       "4  0400000US06  California    06  \n",
       "\n",
       "[5 rows x 199 columns]"
      ]
     },
     "execution_count": 21,
     "metadata": {},
     "output_type": "execute_result"
    }
   ],
   "source": [
    "acs5_df.head()"
   ]
  },
  {
   "cell_type": "markdown",
   "id": "0c67184d-65b5-47ca-8bda-f5d661acf31b",
   "metadata": {},
   "source": [
    "## 2. County Business Patterns\n",
    "Used to identify the number of workers in various industries, based on NAICS codes\n",
    "- [CBP landing page](https://api.census.gov/data/2019/cbp.html)\n",
    "- [CBP variables list](https://api.census.gov/data/2019/cbp/variables.html)\n",
    "- [Look up NAICS codes](https://www.naics.com/search/)\n",
    "\n",
    "1. key - API key\n",
    "1. get - list of variables\n",
    "1. for - geography\n",
    "1. NAICS2017 - NAICS code"
   ]
  },
  {
   "cell_type": "code",
   "execution_count": 25,
   "id": "62970ddb-5869-4c45-90c9-9b82879da874",
   "metadata": {},
   "outputs": [],
   "source": [
    "cbp_endpoint = 'https://api.census.gov/data/2019/cbp'"
   ]
  },
  {
   "cell_type": "code",
   "execution_count": 26,
   "id": "9ae3cb75-901e-459c-b411-eb98ed73c4ae",
   "metadata": {},
   "outputs": [],
   "source": [
    "# let's get the number of Arts, entertainment, and recreation establishments by state\n",
    "# also return the NAICS code, the NAICS label and the name of the state\n",
    "cbp_params = {\n",
    "    'key': api_key,\n",
    "    'get': 'ESTAB,NAICS2017_LABEL,NAME',\n",
    "    'for': 'state',\n",
    "    'NAICS2017': '71'\n",
    "}"
   ]
  },
  {
   "cell_type": "code",
   "execution_count": 27,
   "id": "d5fe5a58-0d9f-44b5-ba8f-24414c11c613",
   "metadata": {},
   "outputs": [],
   "source": [
    "cbp_r = requests.get(cbp_endpoint, params=cbp_params)"
   ]
  },
  {
   "cell_type": "code",
   "execution_count": 28,
   "id": "8a2edcd0-9d12-475d-9893-47ee6ff61c41",
   "metadata": {},
   "outputs": [
    {
     "data": {
      "text/plain": [
       "[['ESTAB', 'NAICS2017_LABEL', 'NAME', 'NAICS2017', 'state'],\n",
       " ['692', 'Arts, entertainment, and recreation', 'Mississippi', '71', '28'],\n",
       " ['2343', 'Arts, entertainment, and recreation', 'Missouri', '71', '29'],\n",
       " ['1277', 'Arts, entertainment, and recreation', 'Montana', '71', '30'],\n",
       " ['966', 'Arts, entertainment, and recreation', 'Nebraska', '71', '31']]"
      ]
     },
     "execution_count": 28,
     "metadata": {},
     "output_type": "execute_result"
    }
   ],
   "source": [
    "cbp_r.json()[0:5]"
   ]
  },
  {
   "cell_type": "code",
   "execution_count": 29,
   "id": "b6dfb007-5f33-4ae3-956d-c025ea029d19",
   "metadata": {},
   "outputs": [],
   "source": [
    "cbp_df = pd.DataFrame(cbp_r.json()[1:], columns=cbp_r.json()[0])"
   ]
  },
  {
   "cell_type": "code",
   "execution_count": 30,
   "id": "1a61e274-e398-479d-b881-37c6a3045a3f",
   "metadata": {},
   "outputs": [
    {
     "data": {
      "text/html": [
       "<div>\n",
       "<style scoped>\n",
       "    .dataframe tbody tr th:only-of-type {\n",
       "        vertical-align: middle;\n",
       "    }\n",
       "\n",
       "    .dataframe tbody tr th {\n",
       "        vertical-align: top;\n",
       "    }\n",
       "\n",
       "    .dataframe thead th {\n",
       "        text-align: right;\n",
       "    }\n",
       "</style>\n",
       "<table border=\"1\" class=\"dataframe\">\n",
       "  <thead>\n",
       "    <tr style=\"text-align: right;\">\n",
       "      <th></th>\n",
       "      <th>ESTAB</th>\n",
       "      <th>NAICS2017_LABEL</th>\n",
       "      <th>NAME</th>\n",
       "      <th>NAICS2017</th>\n",
       "      <th>state</th>\n",
       "    </tr>\n",
       "  </thead>\n",
       "  <tbody>\n",
       "    <tr>\n",
       "      <th>0</th>\n",
       "      <td>692</td>\n",
       "      <td>Arts, entertainment, and recreation</td>\n",
       "      <td>Mississippi</td>\n",
       "      <td>71</td>\n",
       "      <td>28</td>\n",
       "    </tr>\n",
       "    <tr>\n",
       "      <th>1</th>\n",
       "      <td>2343</td>\n",
       "      <td>Arts, entertainment, and recreation</td>\n",
       "      <td>Missouri</td>\n",
       "      <td>71</td>\n",
       "      <td>29</td>\n",
       "    </tr>\n",
       "    <tr>\n",
       "      <th>2</th>\n",
       "      <td>1277</td>\n",
       "      <td>Arts, entertainment, and recreation</td>\n",
       "      <td>Montana</td>\n",
       "      <td>71</td>\n",
       "      <td>30</td>\n",
       "    </tr>\n",
       "    <tr>\n",
       "      <th>3</th>\n",
       "      <td>966</td>\n",
       "      <td>Arts, entertainment, and recreation</td>\n",
       "      <td>Nebraska</td>\n",
       "      <td>71</td>\n",
       "      <td>31</td>\n",
       "    </tr>\n",
       "    <tr>\n",
       "      <th>4</th>\n",
       "      <td>1759</td>\n",
       "      <td>Arts, entertainment, and recreation</td>\n",
       "      <td>Nevada</td>\n",
       "      <td>71</td>\n",
       "      <td>32</td>\n",
       "    </tr>\n",
       "  </tbody>\n",
       "</table>\n",
       "</div>"
      ],
      "text/plain": [
       "  ESTAB                      NAICS2017_LABEL         NAME NAICS2017 state\n",
       "0   692  Arts, entertainment, and recreation  Mississippi        71    28\n",
       "1  2343  Arts, entertainment, and recreation     Missouri        71    29\n",
       "2  1277  Arts, entertainment, and recreation      Montana        71    30\n",
       "3   966  Arts, entertainment, and recreation     Nebraska        71    31\n",
       "4  1759  Arts, entertainment, and recreation       Nevada        71    32"
      ]
     },
     "execution_count": 30,
     "metadata": {},
     "output_type": "execute_result"
    }
   ],
   "source": [
    "cbp_df.head()"
   ]
  },
  {
   "cell_type": "code",
   "execution_count": null,
   "id": "f1465ad7-245d-48bb-b969-36d4f7329405",
   "metadata": {},
   "outputs": [],
   "source": []
  }
 ],
 "metadata": {
  "kernelspec": {
   "display_name": "Python 3",
   "language": "python",
   "name": "python3"
  },
  "language_info": {
   "codemirror_mode": {
    "name": "ipython",
    "version": 3
   },
   "file_extension": ".py",
   "mimetype": "text/x-python",
   "name": "python",
   "nbconvert_exporter": "python",
   "pygments_lexer": "ipython3",
   "version": "3.8.10"
  }
 },
 "nbformat": 4,
 "nbformat_minor": 5
}
