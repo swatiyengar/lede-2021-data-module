{
 "cells": [
  {
   "cell_type": "markdown",
   "metadata": {},
   "source": [
    "# 05 - web scraping and data transformations\n",
    "\n",
    "## Assignment\n",
    "1. [The TSA posts passenger numbers](https://www.tsa.gov/coronavirus/passenger-throughput) in a table but there is no download or API option. We can use BeautifulSoup to parse this table.\n",
    "1. Transform the TSA passenger data in two ways to create two different charts\n",
    "1. Create two charts inside this notebook with [Matplotlib](https://pandas.pydata.org/pandas-docs/stable/user_guide/visualization.html)"
   ]
  },
  {
   "cell_type": "markdown",
   "metadata": {},
   "source": [
    "## Helpful links\n",
    "- [BeautifulSoup](https://www.crummy.com/software/BeautifulSoup/bs4/doc/)\n",
    "- [Matplot for pandas](https://pandas.pydata.org/pandas-docs/stable/user_guide/visualization.html)\n",
    "- [Datetime format codes](https://docs.python.org/3/library/datetime.html#strftime-and-strptime-format-codes)\n",
    "\n",
    "## Table of contents\n",
    "1. [Turn the html table into a dataframe](#1.-Turn-the-html-table-into-a-dataframe)\n",
    "    1. [Create a list of column names](#a.-Create-a-list-of-column-names)\n",
    "    1. [Create a 2d array of data](#b.-Create-a-2d-array-of-data)\n",
    "    1. [Format the data into two columns](#c.-Format-the-data-into-two-columns)\n",
    "1. [Transform the data in two ways](#2.-Transform-the-data-in-two-ways)\n",
    "    1. [Calculate 7-day moving average](#a.-Calculate-7-day-moving-average)\n",
    "    1. [Group data by weeks](#b.-Group-data-by-weeks)\n",
    "1. [Create two charts](#3.-create-two-charts)\n",
    "    1. [7-day moving average](#a.-7-day-moving-average)\n",
    "    1. [By weekly totals](#b.-By-weekly-totals)"
   ]
  },
  {
   "cell_type": "code",
   "execution_count": 1,
   "metadata": {},
   "outputs": [],
   "source": [
    "#### Import libraries\n",
    "import requests\n",
    "from bs4 import BeautifulSoup\n",
    "import pandas as pd\n",
    "import matplotlib.pyplot as plt\n",
    "from datetime import datetime\n",
    "from datetime import timedelta\n",
    "\n",
    "pd.set_option('display.float_format', lambda x: '%.3f' % x)"
   ]
  },
  {
   "cell_type": "markdown",
   "metadata": {},
   "source": [
    "## 1. Turn the html table into a dataframe"
   ]
  },
  {
   "cell_type": "code",
   "execution_count": 2,
   "metadata": {},
   "outputs": [],
   "source": [
    "# get html from from page\n",
    "tsa_r = requests.get('https://www.tsa.gov/coronavirus/passenger-throughput')"
   ]
  },
  {
   "cell_type": "code",
   "execution_count": 3,
   "metadata": {},
   "outputs": [],
   "source": [
    "# create a beautifulsoup object\n",
    "tsa_bs = BeautifulSoup(tsa_r.text)"
   ]
  },
  {
   "cell_type": "markdown",
   "metadata": {},
   "source": [
    "#### table tag\n",
    "![table selected](assets/table.png)"
   ]
  },
  {
   "cell_type": "markdown",
   "metadata": {},
   "source": [
    "### a. Create a list of column names"
   ]
  },
  {
   "cell_type": "code",
   "execution_count": 4,
   "metadata": {},
   "outputs": [],
   "source": [
    "# turn thead into a column list\n",
    "thead = tsa_bs.find('thead')"
   ]
  },
  {
   "cell_type": "code",
   "execution_count": 5,
   "metadata": {},
   "outputs": [],
   "source": [
    "# then find all th elements (because there is only 1 row)\n",
    "ths = thead.find_all('th')"
   ]
  },
  {
   "cell_type": "code",
   "execution_count": 6,
   "metadata": {},
   "outputs": [],
   "source": [
    "# and loop through each th to extract the text for a list\n",
    "tsa_col = []\n",
    "for th in ths:\n",
    "    # remove trailing whitespace \n",
    "    tsa_col.append(th.text.strip())"
   ]
  },
  {
   "cell_type": "code",
   "execution_count": 7,
   "metadata": {},
   "outputs": [
    {
     "data": {
      "text/plain": [
       "['Date',\n",
       " '2021 Traveler Throughput',\n",
       " '2020 Traveler Throughput',\n",
       " '2019 Traveler Throughput']"
      ]
     },
     "execution_count": 7,
     "metadata": {},
     "output_type": "execute_result"
    }
   ],
   "source": [
    "tsa_col"
   ]
  },
  {
   "cell_type": "markdown",
   "metadata": {},
   "source": [
    "### b. Create a 2d array of data\n",
    "![tbody example](assets/tbody.png)"
   ]
  },
  {
   "cell_type": "code",
   "execution_count": 8,
   "metadata": {},
   "outputs": [],
   "source": [
    "# turn data into an array of arrays (2d array)\n",
    "tbody = tsa_bs.find('tbody')"
   ]
  },
  {
   "cell_type": "code",
   "execution_count": 9,
   "metadata": {},
   "outputs": [],
   "source": [
    "# turn tr tags into a list\n",
    "trs = tbody.find_all('tr')"
   ]
  },
  {
   "cell_type": "code",
   "execution_count": 10,
   "metadata": {},
   "outputs": [],
   "source": [
    "# create a list of td tags inside each tr list\n",
    "tr_list = []\n",
    "for tr in trs:\n",
    "    tds = tr.find_all('td')\n",
    "    # and loop through each td to extract the text\n",
    "    td_list = []\n",
    "    for td in tds:\n",
    "        # remove any whitespace\n",
    "        td_list.append(td.text.strip())\n",
    "    # add each list of text values to the tr list \n",
    "    tr_list.append(td_list)"
   ]
  },
  {
   "cell_type": "code",
   "execution_count": 11,
   "metadata": {},
   "outputs": [
    {
     "data": {
      "text/plain": [
       "(365,\n",
       " [['7/10/2021', '1,987,652', '656,284', '2,312,178'],\n",
       "  ['7/9/2021', '2,147,903', '711,124', '2,716,812']])"
      ]
     },
     "execution_count": 11,
     "metadata": {},
     "output_type": "execute_result"
    }
   ],
   "source": [
    "# Check the length of the list and the first couple of items\n",
    "len(tr_list), tr_list[0:2]"
   ]
  },
  {
   "cell_type": "markdown",
   "metadata": {},
   "source": [
    "### c. Format the data into two columns\n",
    "date and value"
   ]
  },
  {
   "cell_type": "code",
   "execution_count": 12,
   "metadata": {},
   "outputs": [],
   "source": [
    "# create a function that will generate dates of preceding years\n",
    "def format_date(d, column_year):\n",
    "    # turn string into date object so we can perform datetime calculations on it\n",
    "    d = datetime.date(datetime.strptime(d, '%m/%d/%Y'))\n",
    "\n",
    "    # how many years past\n",
    "    year_delta = d.year - column_year\n",
    "\n",
    "    # you can apply addition and subtraction to get x-number of dates from/since now\n",
    "    d = d - timedelta(weeks=52*year_delta)\n",
    "\n",
    "    return d"
   ]
  },
  {
   "cell_type": "code",
   "execution_count": 13,
   "metadata": {},
   "outputs": [
    {
     "name": "stdout",
     "output_type": "stream",
     "text": [
      "['1,987,652', '656,284', '2,312,178']\n"
     ]
    }
   ],
   "source": [
    "print(tr_list[0][1:])"
   ]
  },
  {
   "cell_type": "code",
   "execution_count": 14,
   "metadata": {},
   "outputs": [],
   "source": [
    "# this double loop can be combined with the loop above that generates tr_list\n",
    "# but i want to separate text extraction from formatting\n",
    "passengers_per_day = []\n",
    "# for each tr\n",
    "for td_list in tr_list:\n",
    "    # we need to find dates for 2020 and 2019 and align them with the html table format\n",
    "    # turn string into date object so we can perform datetime calculations on it\n",
    "    date_2021 = datetime.date(datetime.strptime(td_list[0], '%m/%d/%Y'))\n",
    "    # the date for 2020 will be 52 weeks before \n",
    "    date_2020 = date_2021 - timedelta(weeks=52)\n",
    "    # the date for 2019 will be 104 weeks before\n",
    "    date_2019 = date_2021 - timedelta(weeks=104)\n",
    "    # because the above is a repeatable process, how can move this to a function?\n",
    "    \n",
    "    date_list = [format_date(td_list[0], 2021),\n",
    "                 format_date(td_list[0], 2020),\n",
    "                 format_date(td_list[0], 2019)]\n",
    "    \n",
    "    # for each passenger column td_list[1:]\n",
    "    for (index, td) in enumerate(td_list[1:]):\n",
    "        # Create a new dictionary to populate with formatted date\n",
    "        # index being the column that corresponds to the order of dates in the date_list above\n",
    "        daily_passengers = {\n",
    "            'date': date_list[index],\n",
    "            'value': td.replace(',', '')\n",
    "        }\n",
    "        \n",
    "        # if value does exist, change it to an integer (or else there will be an error on missing values)\n",
    "        if(daily_passengers['value'] != ''):\n",
    "            daily_passengers['value'] = int(daily_passengers['value'])\n",
    "            \n",
    "            # add each newly created dictionary to passengers_per_day list\n",
    "            passengers_per_day.append(daily_passengers)"
   ]
  },
  {
   "cell_type": "code",
   "execution_count": 15,
   "metadata": {},
   "outputs": [],
   "source": [
    "# turn passengers_per_day into a DataFrame with \"date\" \"value\" columns\n",
    "df = pd.DataFrame(passengers_per_day)\n",
    "\n",
    "# sort dates from latest to earliest\n",
    "df = df.sort_values('date', ascending=True)\n",
    "\n",
    "# delete duplicates\n",
    "df = df.drop_duplicates(subset=['date'])"
   ]
  },
  {
   "cell_type": "code",
   "execution_count": 16,
   "metadata": {},
   "outputs": [
    {
     "data": {
      "text/html": [
       "<div>\n",
       "<style scoped>\n",
       "    .dataframe tbody tr th:only-of-type {\n",
       "        vertical-align: middle;\n",
       "    }\n",
       "\n",
       "    .dataframe tbody tr th {\n",
       "        vertical-align: top;\n",
       "    }\n",
       "\n",
       "    .dataframe thead th {\n",
       "        text-align: right;\n",
       "    }\n",
       "</style>\n",
       "<table border=\"1\" class=\"dataframe\">\n",
       "  <thead>\n",
       "    <tr style=\"text-align: right;\">\n",
       "      <th></th>\n",
       "      <th>date</th>\n",
       "      <th>value</th>\n",
       "    </tr>\n",
       "  </thead>\n",
       "  <tbody>\n",
       "    <tr>\n",
       "      <th>572</th>\n",
       "      <td>2019-01-04</td>\n",
       "      <td>2126398</td>\n",
       "    </tr>\n",
       "    <tr>\n",
       "      <th>569</th>\n",
       "      <td>2019-01-05</td>\n",
       "      <td>2345103</td>\n",
       "    </tr>\n",
       "    <tr>\n",
       "      <th>566</th>\n",
       "      <td>2019-01-06</td>\n",
       "      <td>2202111</td>\n",
       "    </tr>\n",
       "    <tr>\n",
       "      <th>563</th>\n",
       "      <td>2019-01-07</td>\n",
       "      <td>2150571</td>\n",
       "    </tr>\n",
       "    <tr>\n",
       "      <th>560</th>\n",
       "      <td>2019-01-08</td>\n",
       "      <td>1975947</td>\n",
       "    </tr>\n",
       "  </tbody>\n",
       "</table>\n",
       "</div>"
      ],
      "text/plain": [
       "           date    value\n",
       "572  2019-01-04  2126398\n",
       "569  2019-01-05  2345103\n",
       "566  2019-01-06  2202111\n",
       "563  2019-01-07  2150571\n",
       "560  2019-01-08  1975947"
      ]
     },
     "execution_count": 16,
     "metadata": {},
     "output_type": "execute_result"
    }
   ],
   "source": [
    "df.head()"
   ]
  },
  {
   "cell_type": "markdown",
   "metadata": {},
   "source": [
    "## 2. Transform the data in two ways\n",
    "[What's moving average and why are they used? - Dallas FED](https://www.dallasfed.org/research/basics/moving.aspx)"
   ]
  },
  {
   "cell_type": "markdown",
   "metadata": {},
   "source": [
    "### a. Calculate 7-day moving average"
   ]
  },
  {
   "cell_type": "code",
   "execution_count": 17,
   "metadata": {},
   "outputs": [
    {
     "data": {
      "text/html": [
       "<div>\n",
       "<style scoped>\n",
       "    .dataframe tbody tr th:only-of-type {\n",
       "        vertical-align: middle;\n",
       "    }\n",
       "\n",
       "    .dataframe tbody tr th {\n",
       "        vertical-align: top;\n",
       "    }\n",
       "\n",
       "    .dataframe thead th {\n",
       "        text-align: right;\n",
       "    }\n",
       "</style>\n",
       "<table border=\"1\" class=\"dataframe\">\n",
       "  <thead>\n",
       "    <tr style=\"text-align: right;\">\n",
       "      <th></th>\n",
       "      <th>date</th>\n",
       "      <th>value</th>\n",
       "    </tr>\n",
       "  </thead>\n",
       "  <tbody>\n",
       "    <tr>\n",
       "      <th>18</th>\n",
       "      <td>2021-07-04</td>\n",
       "      <td>1681896</td>\n",
       "    </tr>\n",
       "    <tr>\n",
       "      <th>15</th>\n",
       "      <td>2021-07-05</td>\n",
       "      <td>2160147</td>\n",
       "    </tr>\n",
       "    <tr>\n",
       "      <th>12</th>\n",
       "      <td>2021-07-06</td>\n",
       "      <td>1889911</td>\n",
       "    </tr>\n",
       "    <tr>\n",
       "      <th>9</th>\n",
       "      <td>2021-07-07</td>\n",
       "      <td>1880160</td>\n",
       "    </tr>\n",
       "    <tr>\n",
       "      <th>6</th>\n",
       "      <td>2021-07-08</td>\n",
       "      <td>2027364</td>\n",
       "    </tr>\n",
       "    <tr>\n",
       "      <th>3</th>\n",
       "      <td>2021-07-09</td>\n",
       "      <td>2147903</td>\n",
       "    </tr>\n",
       "    <tr>\n",
       "      <th>0</th>\n",
       "      <td>2021-07-10</td>\n",
       "      <td>1987652</td>\n",
       "    </tr>\n",
       "  </tbody>\n",
       "</table>\n",
       "</div>"
      ],
      "text/plain": [
       "          date    value\n",
       "18  2021-07-04  1681896\n",
       "15  2021-07-05  2160147\n",
       "12  2021-07-06  1889911\n",
       "9   2021-07-07  1880160\n",
       "6   2021-07-08  2027364\n",
       "3   2021-07-09  2147903\n",
       "0   2021-07-10  1987652"
      ]
     },
     "execution_count": 17,
     "metadata": {},
     "output_type": "execute_result"
    }
   ],
   "source": [
    "df.tail(7)"
   ]
  },
  {
   "cell_type": "code",
   "execution_count": 18,
   "metadata": {},
   "outputs": [],
   "source": [
    "# write a function that takes the current date and 6 previous dates and averages them\n",
    "def moving_average(row):\n",
    "    sum_ = 0\n",
    "    for i in range(0, 7):\n",
    "        new_date = row['date'] - timedelta(days=i)\n",
    "        sum_ = sum_ + df[df['date'] == new_date]['value'].item()\n",
    "    row['7day_average'] = int(sum_ / 7)\n",
    "    return row"
   ]
  },
  {
   "cell_type": "code",
   "execution_count": 19,
   "metadata": {},
   "outputs": [],
   "source": [
    "# calculate 7-day moving average in a new column\n",
    "df_average = df[7:].apply(moving_average, axis=1, result_type='reduce')\n",
    "df_average = df_average.set_index('date')"
   ]
  },
  {
   "cell_type": "markdown",
   "metadata": {},
   "source": [
    "### b. Group data by weeks"
   ]
  },
  {
   "cell_type": "code",
   "execution_count": 20,
   "metadata": {},
   "outputs": [],
   "source": [
    "def weekday_start(row):\n",
    "    row['week_number'] = row['date'].isocalendar()[1]\n",
    "    try:\n",
    "        row['week_start'] = datetime.fromisocalendar(row['date'].year, row['date'].isocalendar()[1], 1)\n",
    "    except:\n",
    "        row['week_start'] = datetime.fromisocalendar(row['date'].year, 1, 1)\n",
    "    return row"
   ]
  },
  {
   "cell_type": "code",
   "execution_count": 21,
   "metadata": {},
   "outputs": [],
   "source": [
    "df_weeks = df.apply(weekday_start, axis=1, result_type='reduce')"
   ]
  },
  {
   "cell_type": "code",
   "execution_count": 22,
   "metadata": {},
   "outputs": [],
   "source": [
    "df_by_week = pd.DataFrame(df_weeks.groupby('week_start')['value'].sum())"
   ]
  },
  {
   "cell_type": "markdown",
   "metadata": {},
   "source": [
    "## 3. Create two charts\n",
    "### a. 7-day moving average"
   ]
  },
  {
   "cell_type": "code",
   "execution_count": 23,
   "metadata": {},
   "outputs": [
    {
     "data": {
      "text/plain": [
       "<AxesSubplot:xlabel='date'>"
      ]
     },
     "execution_count": 23,
     "metadata": {},
     "output_type": "execute_result"
    },
    {
     "data": {
      "image/png": "[encoded data removed]",
      "text/plain": [
       "<Figure size 504x468 with 1 Axes>"
      ]
     },
     "metadata": {
      "needs_background": "light"
     },
     "output_type": "display_data"
    }
   ],
   "source": [
    "# plot a 7-day average chart\n",
    "fig, ax = plt.subplots(1, 1, figsize=(7, 6.5))\n",
    "df_average['7day_average'].plot(ax=ax)"
   ]
  },
  {
   "cell_type": "markdown",
   "metadata": {},
   "source": [
    "### b. By weekly totals"
   ]
  },
  {
   "cell_type": "code",
   "execution_count": 24,
   "metadata": {},
   "outputs": [
    {
     "data": {
      "text/plain": [
       "date                   object\n",
       "value                   int64\n",
       "week_number             int64\n",
       "week_start     datetime64[ns]\n",
       "dtype: object"
      ]
     },
     "execution_count": 24,
     "metadata": {},
     "output_type": "execute_result"
    }
   ],
   "source": [
    "df_weeks.dtypes"
   ]
  },
  {
   "cell_type": "code",
   "execution_count": 25,
   "metadata": {},
   "outputs": [
    {
     "data": {
      "text/plain": [
       "<AxesSubplot:xlabel='week_start'>"
      ]
     },
     "execution_count": 25,
     "metadata": {},
     "output_type": "execute_result"
    },
    {
     "data": {
      "image/png": "[encoded data removed]",
      "text/plain": [
       "<Figure size 432x288 with 1 Axes>"
      ]
     },
     "metadata": {
      "needs_background": "light"
     },
     "output_type": "display_data"
    }
   ],
   "source": [
    "# plot as weeks\n",
    "plt.figure\n",
    "df_by_week.plot()"
   ]
  },
  {
   "cell_type": "code",
   "execution_count": null,
   "metadata": {},
   "outputs": [],
   "source": []
  }
 ],
 "metadata": {
  "kernelspec": {
   "display_name": "Lede2021-fTxvBHm",
   "language": "python",
   "name": "lede2021-ftxvbhm"
  },
  "language_info": {
   "codemirror_mode": {
    "name": "ipython",
    "version": 3
   },
   "file_extension": ".py",
   "mimetype": "text/x-python",
   "name": "python",
   "nbconvert_exporter": "python",
   "pygments_lexer": "ipython3",
   "version": "3.8.10"
  }
 },
 "nbformat": 4,
 "nbformat_minor": 4
}
