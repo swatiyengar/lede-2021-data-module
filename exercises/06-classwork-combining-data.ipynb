{
 "cells": [
  {
   "cell_type": "markdown",
   "id": "ed6d7bcf-12c2-4e79-b169-035ea2b6ab26",
   "metadata": {},
   "source": [
    "# 06 - Combining data with merges"
   ]
  },
  {
   "cell_type": "code",
   "execution_count": 1,
   "id": "b091ff5a-5acb-4dc8-98c6-9e4c0f7deb37",
   "metadata": {},
   "outputs": [],
   "source": [
    "import pandas as pd\n",
    "import math\n",
    "\n",
    "pd.set_option('display.max_columns', 100)"
   ]
  },
  {
   "cell_type": "markdown",
   "id": "6fabdfd5-5e14-4b28-a38a-7074062b5329",
   "metadata": {},
   "source": [
    "## 1. Match candidate districts from the FEC with demographic data from the census"
   ]
  },
  {
   "cell_type": "markdown",
   "id": "ce24db60-af72-4a96-8ae3-65ac485e837f",
   "metadata": {},
   "source": [
    "### a. Load candidate and demographic files to identify common attributes"
   ]
  },
  {
   "cell_type": "markdown",
   "id": "8b3a05f8-9632-40ab-997f-e3fd501692ae",
   "metadata": {},
   "source": [
    "Candidate files exist as bulk data from the [FEC's website](https://www.fec.gov/data/browse-data/?tab=bulk-data)"
   ]
  },
  {
   "cell_type": "code",
   "execution_count": 2,
   "id": "d042b5f1-e7bf-4e9f-a645-61bd12fe52a2",
   "metadata": {},
   "outputs": [],
   "source": [
    "candidate_header = pd.read_csv('../answers/downloaded_data/cn_header_file.csv').columns.tolist()\n",
    "candidates = pd.read_csv('../answers/downloaded_data/cn22.txt', sep='|', names=candidate_header)"
   ]
  },
  {
   "cell_type": "code",
   "execution_count": 3,
   "id": "7a5f7c62-dadb-4fcc-9cda-2c9156a38931",
   "metadata": {},
   "outputs": [
    {
     "data": {
      "text/html": [
       "<div>\n",
       "<style scoped>\n",
       "    .dataframe tbody tr th:only-of-type {\n",
       "        vertical-align: middle;\n",
       "    }\n",
       "\n",
       "    .dataframe tbody tr th {\n",
       "        vertical-align: top;\n",
       "    }\n",
       "\n",
       "    .dataframe thead th {\n",
       "        text-align: right;\n",
       "    }\n",
       "</style>\n",
       "<table border=\"1\" class=\"dataframe\">\n",
       "  <thead>\n",
       "    <tr style=\"text-align: right;\">\n",
       "      <th></th>\n",
       "      <th>CAND_ID</th>\n",
       "      <th>CAND_NAME</th>\n",
       "      <th>CAND_PTY_AFFILIATION</th>\n",
       "      <th>CAND_ELECTION_YR</th>\n",
       "      <th>CAND_OFFICE_ST</th>\n",
       "      <th>CAND_OFFICE</th>\n",
       "      <th>CAND_OFFICE_DISTRICT</th>\n",
       "      <th>CAND_ICI</th>\n",
       "      <th>CAND_STATUS</th>\n",
       "      <th>CAND_PCC</th>\n",
       "      <th>CAND_ST1</th>\n",
       "      <th>CAND_ST2</th>\n",
       "      <th>CAND_CITY</th>\n",
       "      <th>CAND_ST</th>\n",
       "      <th>CAND_ZIP</th>\n",
       "    </tr>\n",
       "  </thead>\n",
       "  <tbody>\n",
       "    <tr>\n",
       "      <th>0</th>\n",
       "      <td>H0AK00105</td>\n",
       "      <td>LAMB, THOMAS</td>\n",
       "      <td>NNE</td>\n",
       "      <td>2020</td>\n",
       "      <td>AK</td>\n",
       "      <td>H</td>\n",
       "      <td>0.0</td>\n",
       "      <td>C</td>\n",
       "      <td>N</td>\n",
       "      <td>C00607515</td>\n",
       "      <td>1861 W LAKE LUCILLE DR</td>\n",
       "      <td>NaN</td>\n",
       "      <td>WASILLA</td>\n",
       "      <td>AK</td>\n",
       "      <td>99654.0</td>\n",
       "    </tr>\n",
       "    <tr>\n",
       "      <th>1</th>\n",
       "      <td>H0AL01055</td>\n",
       "      <td>CARL, JERRY LEE, JR</td>\n",
       "      <td>REP</td>\n",
       "      <td>2022</td>\n",
       "      <td>AL</td>\n",
       "      <td>H</td>\n",
       "      <td>1.0</td>\n",
       "      <td>I</td>\n",
       "      <td>C</td>\n",
       "      <td>C00697789</td>\n",
       "      <td>PO BOX 852138</td>\n",
       "      <td>NaN</td>\n",
       "      <td>MOBILE</td>\n",
       "      <td>AL</td>\n",
       "      <td>36685.0</td>\n",
       "    </tr>\n",
       "  </tbody>\n",
       "</table>\n",
       "</div>"
      ],
      "text/plain": [
       "     CAND_ID            CAND_NAME CAND_PTY_AFFILIATION  CAND_ELECTION_YR  \\\n",
       "0  H0AK00105         LAMB, THOMAS                  NNE              2020   \n",
       "1  H0AL01055  CARL, JERRY LEE, JR                  REP              2022   \n",
       "\n",
       "  CAND_OFFICE_ST CAND_OFFICE  CAND_OFFICE_DISTRICT CAND_ICI CAND_STATUS  \\\n",
       "0             AK           H                   0.0        C           N   \n",
       "1             AL           H                   1.0        I           C   \n",
       "\n",
       "    CAND_PCC                CAND_ST1 CAND_ST2 CAND_CITY CAND_ST  CAND_ZIP  \n",
       "0  C00607515  1861 W LAKE LUCILLE DR      NaN   WASILLA      AK   99654.0  \n",
       "1  C00697789           PO BOX 852138      NaN    MOBILE      AL   36685.0  "
      ]
     },
     "execution_count": 3,
     "metadata": {},
     "output_type": "execute_result"
    }
   ],
   "source": [
    "candidates.head(2)"
   ]
  },
  {
   "cell_type": "code",
   "execution_count": 5,
   "id": "17b17172-d53d-476a-8950-847a248258af",
   "metadata": {},
   "outputs": [],
   "source": [
    "demographics = pd.read_csv('../answers/downloaded_data/ACSDT5Y2019.B01003_2021-07-14T121439/ACSDT5Y2019.B01003_data_with_overlays_2021-07-14T121436.csv', header=1)"
   ]
  },
  {
   "cell_type": "code",
   "execution_count": 6,
   "id": "71d483e3-f616-4eed-96b8-cc74cf3cb11e",
   "metadata": {},
   "outputs": [
    {
     "data": {
      "text/html": [
       "<div>\n",
       "<style scoped>\n",
       "    .dataframe tbody tr th:only-of-type {\n",
       "        vertical-align: middle;\n",
       "    }\n",
       "\n",
       "    .dataframe tbody tr th {\n",
       "        vertical-align: top;\n",
       "    }\n",
       "\n",
       "    .dataframe thead th {\n",
       "        text-align: right;\n",
       "    }\n",
       "</style>\n",
       "<table border=\"1\" class=\"dataframe\">\n",
       "  <thead>\n",
       "    <tr style=\"text-align: right;\">\n",
       "      <th></th>\n",
       "      <th>id</th>\n",
       "      <th>Geographic Area Name</th>\n",
       "      <th>Estimate!!Total</th>\n",
       "      <th>Margin of Error!!Total</th>\n",
       "    </tr>\n",
       "  </thead>\n",
       "  <tbody>\n",
       "    <tr>\n",
       "      <th>0</th>\n",
       "      <td>5001600US0101</td>\n",
       "      <td>Congressional District 1 (116th Congress), Ala...</td>\n",
       "      <td>710135.0</td>\n",
       "      <td>615</td>\n",
       "    </tr>\n",
       "    <tr>\n",
       "      <th>1</th>\n",
       "      <td>5001600US0102</td>\n",
       "      <td>Congressional District 2 (116th Congress), Ala...</td>\n",
       "      <td>679684.0</td>\n",
       "      <td>2213</td>\n",
       "    </tr>\n",
       "  </tbody>\n",
       "</table>\n",
       "</div>"
      ],
      "text/plain": [
       "              id                               Geographic Area Name  \\\n",
       "0  5001600US0101  Congressional District 1 (116th Congress), Ala...   \n",
       "1  5001600US0102  Congressional District 2 (116th Congress), Ala...   \n",
       "\n",
       "   Estimate!!Total Margin of Error!!Total  \n",
       "0         710135.0                    615  \n",
       "1         679684.0                   2213  "
      ]
     },
     "execution_count": 6,
     "metadata": {},
     "output_type": "execute_result"
    }
   ],
   "source": [
    "demographics.head(2)"
   ]
  },
  {
   "cell_type": "markdown",
   "id": "9a9f9eae-0877-4ba0-b402-707a48139d85",
   "metadata": {},
   "source": [
    "Looking at the first couple of entries, what could be common attributes?\n",
    "\n",
    "- \n",
    "- \n",
    "- "
   ]
  },
  {
   "cell_type": "markdown",
   "id": "b145eb66-c6e0-4034-bcc2-8f386fdf3f95",
   "metadata": {},
   "source": [
    "### b. Format candidates table"
   ]
  },
  {
   "cell_type": "code",
   "execution_count": null,
   "id": "083e773e-b870-4679-b0f2-ecbb89522d4b",
   "metadata": {},
   "outputs": [],
   "source": []
  },
  {
   "cell_type": "markdown",
   "id": "32004455-e365-472f-9640-ff498e741af6",
   "metadata": {},
   "source": [
    "### c. Format demographics table"
   ]
  },
  {
   "cell_type": "markdown",
   "id": "ccb73caa-5272-4858-9146-7a2cae64bdd6",
   "metadata": {},
   "source": [
    "How can we identify districts and states the way that the FEC identifies? Split the id column into state ID and district ID\n",
    "\n",
    "[Read up on splicing notation here](https://www.oreilly.com/content/how-do-i-use-the-slice-notation-in-python/)\n",
    "\n",
    "[Find FIPs codes here](https://www.nrcs.usda.gov/wps/portal/nrcs/detail/?cid=nrcs143_013696)"
   ]
  },
  {
   "cell_type": "code",
   "execution_count": 7,
   "id": "d3b0516e-d408-4c7c-88e0-f5587ee63d39",
   "metadata": {},
   "outputs": [],
   "source": [
    "state_lookup = pd.read_html('https://www.nrcs.usda.gov/wps/portal/nrcs/detail/?cid=nrcs143_013696')"
   ]
  },
  {
   "cell_type": "code",
   "execution_count": null,
   "id": "4dc762b9-bd01-42b6-ad36-88f62260bb71",
   "metadata": {},
   "outputs": [],
   "source": []
  },
  {
   "cell_type": "markdown",
   "id": "e91d51b1-f669-4358-ae34-23ac0926932e",
   "metadata": {},
   "source": [
    "### d. Merge formatted tables\n",
    "\n",
    "We need the identifying columns to be in the same format and variable type. We can do a double merge or we can create a new key with district and state abbreviation in each table.\n",
    "\n",
    "[Read about merging in pandas here](https://pandas.pydata.org/docs/reference/api/pandas.DataFrame.merge.html)\n",
    "\n",
    "Identify...\n",
    "\n",
    "- Left table:\n",
    "- Right table:\n",
    "- Left key:\n",
    "- Right key:\n",
    "- Merge type:"
   ]
  },
  {
   "cell_type": "code",
   "execution_count": null,
   "id": "ea684605-b6d4-4bc5-be96-7386eb487244",
   "metadata": {},
   "outputs": [],
   "source": []
  },
  {
   "cell_type": "markdown",
   "id": "251e13f3-1d3a-46a6-8998-875e29c12e47",
   "metadata": {},
   "source": []
  }
 ],
 "metadata": {
  "kernelspec": {
   "display_name": "Python 3",
   "language": "python",
   "name": "python3"
  },
  "language_info": {
   "codemirror_mode": {
    "name": "ipython",
    "version": 3
   },
   "file_extension": ".py",
   "mimetype": "text/x-python",
   "name": "python",
   "nbconvert_exporter": "python",
   "pygments_lexer": "ipython3",
   "version": "3.8.10"
  }
 },
 "nbformat": 4,
 "nbformat_minor": 5
}
