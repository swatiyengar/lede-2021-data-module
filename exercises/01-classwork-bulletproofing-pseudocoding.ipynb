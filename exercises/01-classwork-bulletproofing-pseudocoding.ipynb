{
 "cells": [
  {
   "cell_type": "markdown",
   "metadata": {},
   "source": [
    "# 01 - Bulletproofing your data"
   ]
  },
  {
   "cell_type": "markdown",
   "metadata": {},
   "source": [
    "[Nameparser library](https://pypi.org/project/nameparser/)"
   ]
  },
  {
   "cell_type": "code",
   "execution_count": 159,
   "metadata": {},
   "outputs": [],
   "source": [
    "# import libraries\n",
    "import pandas as pd\n",
    "from nameparser import HumanName\n",
    "\n",
    "pd.set_option('display.max_rows', 100)\n",
    "pd.set_option('display.max_columns', 50)"
   ]
  },
  {
   "cell_type": "markdown",
   "metadata": {},
   "source": [
    "### Practice\n",
    "#### FED board of directors \n",
    "##### 1. Download\n",
    "- [Diversity in the FED - Brookings Institute](https://www.brookings.edu/research/diversity-within-the-federal-reserve-system/): download file named \" Biographical database by unique position\" on lefthand side\n",
    "- [Documentation](https://www.brookings.edu/wp-content/uploads/2021/04/Biographical-Database-Overview.pdf): go through each column to understand what's there\n",
    "- [Brookings Analysis](https://www.brookings.edu/wp-content/uploads/2021/04/Appendices-Directors-by-race-gender-and-bank.pdf)"
   ]
  },
  {
   "cell_type": "code",
   "execution_count": 108,
   "metadata": {},
   "outputs": [],
   "source": [
    "# get excel file from assets/ folder\n",
    "df_bod = pd.read_excel('downloaded_data/Biographical-database-BoD-Unique-Positions.xlsx')"
   ]
  },
  {
   "cell_type": "code",
   "execution_count": 109,
   "metadata": {},
   "outputs": [
    {
     "name": "stdout",
     "output_type": "stream",
     "text": [
      "<class 'pandas.core.frame.DataFrame'>\n",
      "RangeIndex: 2607 entries, 0 to 2606\n",
      "Data columns (total 31 columns):\n",
      " #   Column                Non-Null Count  Dtype  \n",
      "---  ------                --------------  -----  \n",
      " 0   Name                  2607 non-null   object \n",
      " 1   District Number       2607 non-null   int64  \n",
      " 2   District Name         2607 non-null   object \n",
      " 3   Class                 2607 non-null   object \n",
      " 4   Group                 1393 non-null   float64\n",
      " 5   TD1: Degree           2607 non-null   object \n",
      " 6   TD1: Major/Field      2607 non-null   object \n",
      " 7   TD1: School           2607 non-null   object \n",
      " 8   TD1: Year             2607 non-null   object \n",
      " 9   TD2: Degree           2607 non-null   object \n",
      " 10  TD2: Major/Field      2607 non-null   object \n",
      " 11  TD2: School           2607 non-null   object \n",
      " 12  TD2: Year             2606 non-null   object \n",
      " 13  City                  2606 non-null   object \n",
      " 14  State                 2607 non-null   object \n",
      " 15  Job Title             2607 non-null   object \n",
      " 16  Organization          2607 non-null   object \n",
      " 17  Sector                2607 non-null   object \n",
      " 18  Race                  2607 non-null   object \n",
      " 19  Gender                2607 non-null   object \n",
      " 20  Birth Year            2607 non-null   object \n",
      " 21  Age at Start          2607 non-null   object \n",
      " 22  FOMC Combined         2607 non-null   object \n",
      " 23  FOMC Pre-reorg        2607 non-null   object \n",
      " 24  FOMC Pre Start Year   2607 non-null   object \n",
      " 25  FOMC Pre End Year     2607 non-null   object \n",
      " 26  FOMC Post-reorg       2607 non-null   object \n",
      " 27  FOMC Post Start Year  2607 non-null   object \n",
      " 28  FOMC Post End Year    2607 non-null   object \n",
      " 29  Start Year (pos.)     2607 non-null   int64  \n",
      " 30  End Year (pos.)       2607 non-null   object \n",
      "dtypes: float64(1), int64(2), object(28)\n",
      "memory usage: 631.5+ KB\n"
     ]
    }
   ],
   "source": [
    "# check row and column lengths\n",
    "df_bod.info()"
   ]
  },
  {
   "cell_type": "code",
   "execution_count": 110,
   "metadata": {},
   "outputs": [],
   "source": [
    "# trim columns and covert all to strings\n",
    "df_bod = df_bod.applymap(lambda x: x.strip() if type(x) == str else str(x))"
   ]
  },
  {
   "cell_type": "code",
   "execution_count": 116,
   "metadata": {},
   "outputs": [],
   "source": [
    "# standardize null values\n",
    "df_bod = df_bod.applymap(lambda x: np.nan if str(x) in ['-', '?', 'None', 'nan'] else x)"
   ]
  },
  {
   "cell_type": "code",
   "execution_count": 117,
   "metadata": {},
   "outputs": [
    {
     "data": {
      "text/plain": [
       "(array(['3.0', nan, '2.0', '1.0'], dtype=object),\n",
       " array(['A', 'T', 'B', 'C', 'C Chair', 'C Dep. Chair', 'C chair'],\n",
       "       dtype=object))"
      ]
     },
     "execution_count": 117,
     "metadata": {},
     "output_type": "execute_result"
    }
   ],
   "source": [
    "# check columns: with missing values (Group)\n",
    "df_bod['Group'].unique(), df_bod['Class'].unique()"
   ]
  },
  {
   "cell_type": "markdown",
   "metadata": {},
   "source": [
    "**_According to documentation: For A and B class directors they can be elected by banks in Group 1, 2, or 3. Upon investigation, there are 10 entries where there is a group number but not A or B class. Ask about this._**"
   ]
  },
  {
   "cell_type": "code",
   "execution_count": 114,
   "metadata": {},
   "outputs": [
    {
     "data": {
      "text/plain": [
       "1383"
      ]
     },
     "execution_count": 114,
     "metadata": {},
     "output_type": "execute_result"
    }
   ],
   "source": [
    "# according to documentation, class A and B directors are assigned a group. does this match?\n",
    "len(df_bod[df_bod['Class'].isin(['A', 'B'])])"
   ]
  },
  {
   "cell_type": "code",
   "execution_count": 119,
   "metadata": {},
   "outputs": [
    {
     "data": {
      "text/plain": [
       "10"
      ]
     },
     "execution_count": 119,
     "metadata": {},
     "output_type": "execute_result"
    }
   ],
   "source": [
    "# 1383 != 1393 investigate further\n",
    "len(df_bod[df_bod['Group'].notna() & (~df_bod['Class'].isin(['A', 'B']))])"
   ]
  },
  {
   "cell_type": "markdown",
   "metadata": {},
   "source": [
    "One row = each position served rather than one person, which is why there are duplicates. In the research article in footnote 18, it says there are 1,957 unique people. Does this match?"
   ]
  },
  {
   "cell_type": "code",
   "execution_count": 120,
   "metadata": {},
   "outputs": [
    {
     "data": {
      "text/html": [
       "<div>\n",
       "<style scoped>\n",
       "    .dataframe tbody tr th:only-of-type {\n",
       "        vertical-align: middle;\n",
       "    }\n",
       "\n",
       "    .dataframe tbody tr th {\n",
       "        vertical-align: top;\n",
       "    }\n",
       "\n",
       "    .dataframe thead th {\n",
       "        text-align: right;\n",
       "    }\n",
       "</style>\n",
       "<table border=\"1\" class=\"dataframe\">\n",
       "  <thead>\n",
       "    <tr style=\"text-align: right;\">\n",
       "      <th></th>\n",
       "      <th>Name</th>\n",
       "      <th>District Number</th>\n",
       "      <th>District Name</th>\n",
       "      <th>Class</th>\n",
       "      <th>Group</th>\n",
       "      <th>TD1: Degree</th>\n",
       "      <th>TD1: Major/Field</th>\n",
       "      <th>TD1: School</th>\n",
       "      <th>TD1: Year</th>\n",
       "      <th>TD2: Degree</th>\n",
       "      <th>TD2: Major/Field</th>\n",
       "      <th>TD2: School</th>\n",
       "      <th>TD2: Year</th>\n",
       "      <th>City</th>\n",
       "      <th>State</th>\n",
       "      <th>Job Title</th>\n",
       "      <th>Organization</th>\n",
       "      <th>Sector</th>\n",
       "      <th>Race</th>\n",
       "      <th>Gender</th>\n",
       "      <th>Birth Year</th>\n",
       "      <th>Age at Start</th>\n",
       "      <th>FOMC Combined</th>\n",
       "      <th>FOMC Pre-reorg</th>\n",
       "      <th>FOMC Pre Start Year</th>\n",
       "      <th>FOMC Pre End Year</th>\n",
       "      <th>FOMC Post-reorg</th>\n",
       "      <th>FOMC Post Start Year</th>\n",
       "      <th>FOMC Post End Year</th>\n",
       "      <th>Start Year (pos.)</th>\n",
       "      <th>End Year (pos.)</th>\n",
       "    </tr>\n",
       "  </thead>\n",
       "  <tbody>\n",
       "  </tbody>\n",
       "</table>\n",
       "</div>"
      ],
      "text/plain": [
       "Empty DataFrame\n",
       "Columns: [Name, District Number, District Name, Class, Group, TD1: Degree, TD1: Major/Field, TD1: School, TD1: Year, TD2: Degree, TD2: Major/Field, TD2: School, TD2: Year, City, State, Job Title, Organization, Sector, Race, Gender, Birth Year, Age at Start, FOMC Combined, FOMC Pre-reorg, FOMC Pre Start Year, FOMC Pre End Year, FOMC Post-reorg, FOMC Post Start Year, FOMC Post End Year, Start Year (pos.), End Year (pos.)]\n",
       "Index: []"
      ]
     },
     "execution_count": 120,
     "metadata": {},
     "output_type": "execute_result"
    }
   ],
   "source": [
    "# find duplicates\n",
    "df_bod[df_bod.duplicated()]"
   ]
  },
  {
   "cell_type": "code",
   "execution_count": 137,
   "metadata": {},
   "outputs": [
    {
     "data": {
      "text/plain": [
       "651"
      ]
     },
     "execution_count": 137,
     "metadata": {},
     "output_type": "execute_result"
    }
   ],
   "source": [
    "# find duplicated: filter by duplicated Name + Birth Year\n",
    "len(df_bod[df_bod.duplicated(subset=['Name'])].sort_values('Name'))"
   ]
  },
  {
   "cell_type": "markdown",
   "metadata": {},
   "source": [
    "There is one person missing, so let's standardize the names (replace all special characters and make all uppercase)"
   ]
  },
  {
   "cell_type": "code",
   "execution_count": 147,
   "metadata": {},
   "outputs": [
    {
     "name": "stderr",
     "output_type": "stream",
     "text": [
      "<ipython-input-147-45917fcfb1b7>:1: FutureWarning: The default value of regex will change from True to False in a future version. In addition, single character regular expressions will*not* be treated as literal strings when regex=True.\n",
      "  df_bod['Name'] = df_bod['Name'].str.replace('.', '').str.upper()\n"
     ]
    }
   ],
   "source": [
    "df_bod['Name'] = df_bod['Name'].str.replace('.', '').str.upper()"
   ]
  },
  {
   "cell_type": "code",
   "execution_count": 148,
   "metadata": {},
   "outputs": [
    {
     "data": {
      "text/plain": [
       "650"
      ]
     },
     "execution_count": 148,
     "metadata": {},
     "output_type": "execute_result"
    }
   ],
   "source": [
    "len(df_bod[df_bod.duplicated(subset=['Name', 'Birth Year'])])"
   ]
  },
  {
   "cell_type": "code",
   "execution_count": 146,
   "metadata": {},
   "outputs": [
    {
     "data": {
      "text/plain": [
       "1957"
      ]
     },
     "execution_count": 146,
     "metadata": {},
     "output_type": "execute_result"
    }
   ],
   "source": [
    "2607-650"
   ]
  },
  {
   "cell_type": "code",
   "execution_count": 149,
   "metadata": {},
   "outputs": [
    {
     "data": {
      "text/html": [
       "<div>\n",
       "<style scoped>\n",
       "    .dataframe tbody tr th:only-of-type {\n",
       "        vertical-align: middle;\n",
       "    }\n",
       "\n",
       "    .dataframe tbody tr th {\n",
       "        vertical-align: top;\n",
       "    }\n",
       "\n",
       "    .dataframe thead th {\n",
       "        text-align: right;\n",
       "    }\n",
       "</style>\n",
       "<table border=\"1\" class=\"dataframe\">\n",
       "  <thead>\n",
       "    <tr style=\"text-align: right;\">\n",
       "      <th></th>\n",
       "      <th>Name</th>\n",
       "      <th>District Number</th>\n",
       "      <th>District Name</th>\n",
       "      <th>Class</th>\n",
       "      <th>Group</th>\n",
       "      <th>TD1: Degree</th>\n",
       "      <th>TD1: Major/Field</th>\n",
       "      <th>TD1: School</th>\n",
       "      <th>TD1: Year</th>\n",
       "      <th>TD2: Degree</th>\n",
       "      <th>TD2: Major/Field</th>\n",
       "      <th>TD2: School</th>\n",
       "      <th>TD2: Year</th>\n",
       "      <th>City</th>\n",
       "      <th>State</th>\n",
       "      <th>Job Title</th>\n",
       "      <th>Organization</th>\n",
       "      <th>Sector</th>\n",
       "      <th>Race</th>\n",
       "      <th>Gender</th>\n",
       "      <th>Birth Year</th>\n",
       "      <th>Age at Start</th>\n",
       "      <th>FOMC Combined</th>\n",
       "      <th>FOMC Pre-reorg</th>\n",
       "      <th>FOMC Pre Start Year</th>\n",
       "      <th>FOMC Pre End Year</th>\n",
       "      <th>FOMC Post-reorg</th>\n",
       "      <th>FOMC Post Start Year</th>\n",
       "      <th>FOMC Post End Year</th>\n",
       "      <th>Start Year (pos.)</th>\n",
       "      <th>End Year (pos.)</th>\n",
       "      <th>title</th>\n",
       "      <th>first</th>\n",
       "      <th>middle</th>\n",
       "      <th>last</th>\n",
       "      <th>suffix</th>\n",
       "      <th>nickname</th>\n",
       "      <th>middle_initial</th>\n",
       "    </tr>\n",
       "  </thead>\n",
       "  <tbody>\n",
       "    <tr>\n",
       "      <th>838</th>\n",
       "      <td>ERWIN DAIN CANHAM</td>\n",
       "      <td>1</td>\n",
       "      <td>Boston</td>\n",
       "      <td>C Dep. Chair</td>\n",
       "      <td>NaN</td>\n",
       "      <td>Bachelor's</td>\n",
       "      <td>NaN</td>\n",
       "      <td>Bates College</td>\n",
       "      <td>1925</td>\n",
       "      <td>NaN</td>\n",
       "      <td>NaN</td>\n",
       "      <td>NaN</td>\n",
       "      <td>NaN</td>\n",
       "      <td>NaN</td>\n",
       "      <td>Massachusetts</td>\n",
       "      <td>Editor</td>\n",
       "      <td>Christian Science Monitor</td>\n",
       "      <td>Publishing</td>\n",
       "      <td>W</td>\n",
       "      <td>M</td>\n",
       "      <td>1904</td>\n",
       "      <td>57</td>\n",
       "      <td>NaN</td>\n",
       "      <td>NaN</td>\n",
       "      <td>NaN</td>\n",
       "      <td>NaN</td>\n",
       "      <td>NaN</td>\n",
       "      <td>NaN</td>\n",
       "      <td>NaN</td>\n",
       "      <td>1961</td>\n",
       "      <td>1962</td>\n",
       "      <td></td>\n",
       "      <td>Erwin</td>\n",
       "      <td>Dain</td>\n",
       "      <td>Canham</td>\n",
       "      <td></td>\n",
       "      <td></td>\n",
       "      <td>D</td>\n",
       "    </tr>\n",
       "  </tbody>\n",
       "</table>\n",
       "</div>"
      ],
      "text/plain": [
       "                  Name District Number District Name         Class Group  \\\n",
       "838  ERWIN DAIN CANHAM               1        Boston  C Dep. Chair   NaN   \n",
       "\n",
       "    TD1: Degree TD1: Major/Field    TD1: School TD1: Year TD2: Degree  \\\n",
       "838  Bachelor's              NaN  Bates College      1925         NaN   \n",
       "\n",
       "    TD2: Major/Field TD2: School TD2: Year City          State Job Title  \\\n",
       "838              NaN         NaN       NaN  NaN  Massachusetts    Editor   \n",
       "\n",
       "                  Organization      Sector Race Gender Birth Year  \\\n",
       "838  Christian Science Monitor  Publishing    W      M       1904   \n",
       "\n",
       "    Age at Start FOMC Combined FOMC Pre-reorg FOMC Pre Start Year  \\\n",
       "838           57           NaN            NaN                 NaN   \n",
       "\n",
       "    FOMC Pre End Year FOMC Post-reorg FOMC Post Start Year FOMC Post End Year  \\\n",
       "838               NaN             NaN                  NaN                NaN   \n",
       "\n",
       "    Start Year (pos.) End Year (pos.) title  first middle    last suffix  \\\n",
       "838              1961            1962        Erwin   Dain  Canham          \n",
       "\n",
       "    nickname middle_initial  \n",
       "838                       D  "
      ]
     },
     "execution_count": 149,
     "metadata": {},
     "output_type": "execute_result"
    }
   ],
   "source": [
    "# missing city value\n",
    "df_bod[df_bod['City'].isnull()]"
   ]
  },
  {
   "cell_type": "code",
   "execution_count": 151,
   "metadata": {},
   "outputs": [
    {
     "data": {
      "text/html": [
       "<div>\n",
       "<style scoped>\n",
       "    .dataframe tbody tr th:only-of-type {\n",
       "        vertical-align: middle;\n",
       "    }\n",
       "\n",
       "    .dataframe tbody tr th {\n",
       "        vertical-align: top;\n",
       "    }\n",
       "\n",
       "    .dataframe thead th {\n",
       "        text-align: right;\n",
       "    }\n",
       "</style>\n",
       "<table border=\"1\" class=\"dataframe\">\n",
       "  <thead>\n",
       "    <tr style=\"text-align: right;\">\n",
       "      <th></th>\n",
       "      <th>Name</th>\n",
       "      <th>District Number</th>\n",
       "      <th>District Name</th>\n",
       "      <th>Class</th>\n",
       "      <th>Group</th>\n",
       "      <th>TD1: Degree</th>\n",
       "      <th>TD1: Major/Field</th>\n",
       "      <th>TD1: School</th>\n",
       "      <th>TD1: Year</th>\n",
       "      <th>TD2: Degree</th>\n",
       "      <th>TD2: Major/Field</th>\n",
       "      <th>TD2: School</th>\n",
       "      <th>TD2: Year</th>\n",
       "      <th>City</th>\n",
       "      <th>State</th>\n",
       "      <th>Job Title</th>\n",
       "      <th>Organization</th>\n",
       "      <th>Sector</th>\n",
       "      <th>Race</th>\n",
       "      <th>Gender</th>\n",
       "      <th>Birth Year</th>\n",
       "      <th>Age at Start</th>\n",
       "      <th>FOMC Combined</th>\n",
       "      <th>FOMC Pre-reorg</th>\n",
       "      <th>FOMC Pre Start Year</th>\n",
       "      <th>FOMC Pre End Year</th>\n",
       "      <th>FOMC Post-reorg</th>\n",
       "      <th>FOMC Post Start Year</th>\n",
       "      <th>FOMC Post End Year</th>\n",
       "      <th>Start Year (pos.)</th>\n",
       "      <th>End Year (pos.)</th>\n",
       "      <th>title</th>\n",
       "      <th>first</th>\n",
       "      <th>middle</th>\n",
       "      <th>last</th>\n",
       "      <th>suffix</th>\n",
       "      <th>nickname</th>\n",
       "      <th>middle_initial</th>\n",
       "    </tr>\n",
       "  </thead>\n",
       "  <tbody>\n",
       "    <tr>\n",
       "      <th>771</th>\n",
       "      <td>ERWIN DAIN CANHAM</td>\n",
       "      <td>1</td>\n",
       "      <td>Boston</td>\n",
       "      <td>C</td>\n",
       "      <td>NaN</td>\n",
       "      <td>Bachelor's</td>\n",
       "      <td>NaN</td>\n",
       "      <td>Bates College</td>\n",
       "      <td>1925</td>\n",
       "      <td>NaN</td>\n",
       "      <td>NaN</td>\n",
       "      <td>NaN</td>\n",
       "      <td>NaN</td>\n",
       "      <td>Boston</td>\n",
       "      <td>Massachusetts</td>\n",
       "      <td>Editor</td>\n",
       "      <td>Christian Science Monitor</td>\n",
       "      <td>Publishing</td>\n",
       "      <td>W</td>\n",
       "      <td>M</td>\n",
       "      <td>1904</td>\n",
       "      <td>55</td>\n",
       "      <td>NaN</td>\n",
       "      <td>NaN</td>\n",
       "      <td>NaN</td>\n",
       "      <td>NaN</td>\n",
       "      <td>NaN</td>\n",
       "      <td>NaN</td>\n",
       "      <td>NaN</td>\n",
       "      <td>1959</td>\n",
       "      <td>1960</td>\n",
       "      <td></td>\n",
       "      <td>Erwin</td>\n",
       "      <td>Dain</td>\n",
       "      <td>Canham</td>\n",
       "      <td></td>\n",
       "      <td></td>\n",
       "      <td>D</td>\n",
       "    </tr>\n",
       "    <tr>\n",
       "      <th>838</th>\n",
       "      <td>ERWIN DAIN CANHAM</td>\n",
       "      <td>1</td>\n",
       "      <td>Boston</td>\n",
       "      <td>C Dep. Chair</td>\n",
       "      <td>NaN</td>\n",
       "      <td>Bachelor's</td>\n",
       "      <td>NaN</td>\n",
       "      <td>Bates College</td>\n",
       "      <td>1925</td>\n",
       "      <td>NaN</td>\n",
       "      <td>NaN</td>\n",
       "      <td>NaN</td>\n",
       "      <td>NaN</td>\n",
       "      <td>NaN</td>\n",
       "      <td>Massachusetts</td>\n",
       "      <td>Editor</td>\n",
       "      <td>Christian Science Monitor</td>\n",
       "      <td>Publishing</td>\n",
       "      <td>W</td>\n",
       "      <td>M</td>\n",
       "      <td>1904</td>\n",
       "      <td>57</td>\n",
       "      <td>NaN</td>\n",
       "      <td>NaN</td>\n",
       "      <td>NaN</td>\n",
       "      <td>NaN</td>\n",
       "      <td>NaN</td>\n",
       "      <td>NaN</td>\n",
       "      <td>NaN</td>\n",
       "      <td>1961</td>\n",
       "      <td>1962</td>\n",
       "      <td></td>\n",
       "      <td>Erwin</td>\n",
       "      <td>Dain</td>\n",
       "      <td>Canham</td>\n",
       "      <td></td>\n",
       "      <td></td>\n",
       "      <td>D</td>\n",
       "    </tr>\n",
       "    <tr>\n",
       "      <th>889</th>\n",
       "      <td>ERWIN DAIN CANHAM</td>\n",
       "      <td>1</td>\n",
       "      <td>Boston</td>\n",
       "      <td>C Chair</td>\n",
       "      <td>NaN</td>\n",
       "      <td>Bachelor's</td>\n",
       "      <td>NaN</td>\n",
       "      <td>Bates College</td>\n",
       "      <td>1925</td>\n",
       "      <td>NaN</td>\n",
       "      <td>NaN</td>\n",
       "      <td>NaN</td>\n",
       "      <td>NaN</td>\n",
       "      <td>Boston</td>\n",
       "      <td>Massachusetts</td>\n",
       "      <td>Editor</td>\n",
       "      <td>Christian Science Monitor</td>\n",
       "      <td>Publishing</td>\n",
       "      <td>W</td>\n",
       "      <td>M</td>\n",
       "      <td>1904</td>\n",
       "      <td>59</td>\n",
       "      <td>NaN</td>\n",
       "      <td>NaN</td>\n",
       "      <td>NaN</td>\n",
       "      <td>NaN</td>\n",
       "      <td>NaN</td>\n",
       "      <td>NaN</td>\n",
       "      <td>NaN</td>\n",
       "      <td>1963</td>\n",
       "      <td>1967</td>\n",
       "      <td></td>\n",
       "      <td>Erwin</td>\n",
       "      <td>Dain</td>\n",
       "      <td>Canham</td>\n",
       "      <td></td>\n",
       "      <td></td>\n",
       "      <td>D</td>\n",
       "    </tr>\n",
       "  </tbody>\n",
       "</table>\n",
       "</div>"
      ],
      "text/plain": [
       "                  Name District Number District Name         Class Group  \\\n",
       "771  ERWIN DAIN CANHAM               1        Boston             C   NaN   \n",
       "838  ERWIN DAIN CANHAM               1        Boston  C Dep. Chair   NaN   \n",
       "889  ERWIN DAIN CANHAM               1        Boston       C Chair   NaN   \n",
       "\n",
       "    TD1: Degree TD1: Major/Field    TD1: School TD1: Year TD2: Degree  \\\n",
       "771  Bachelor's              NaN  Bates College      1925         NaN   \n",
       "838  Bachelor's              NaN  Bates College      1925         NaN   \n",
       "889  Bachelor's              NaN  Bates College      1925         NaN   \n",
       "\n",
       "    TD2: Major/Field TD2: School TD2: Year    City          State Job Title  \\\n",
       "771              NaN         NaN       NaN  Boston  Massachusetts    Editor   \n",
       "838              NaN         NaN       NaN     NaN  Massachusetts    Editor   \n",
       "889              NaN         NaN       NaN  Boston  Massachusetts    Editor   \n",
       "\n",
       "                  Organization      Sector Race Gender Birth Year  \\\n",
       "771  Christian Science Monitor  Publishing    W      M       1904   \n",
       "838  Christian Science Monitor  Publishing    W      M       1904   \n",
       "889  Christian Science Monitor  Publishing    W      M       1904   \n",
       "\n",
       "    Age at Start FOMC Combined FOMC Pre-reorg FOMC Pre Start Year  \\\n",
       "771           55           NaN            NaN                 NaN   \n",
       "838           57           NaN            NaN                 NaN   \n",
       "889           59           NaN            NaN                 NaN   \n",
       "\n",
       "    FOMC Pre End Year FOMC Post-reorg FOMC Post Start Year FOMC Post End Year  \\\n",
       "771               NaN             NaN                  NaN                NaN   \n",
       "838               NaN             NaN                  NaN                NaN   \n",
       "889               NaN             NaN                  NaN                NaN   \n",
       "\n",
       "    Start Year (pos.) End Year (pos.) title  first middle    last suffix  \\\n",
       "771              1959            1960        Erwin   Dain  Canham          \n",
       "838              1961            1962        Erwin   Dain  Canham          \n",
       "889              1963            1967        Erwin   Dain  Canham          \n",
       "\n",
       "    nickname middle_initial  \n",
       "771                       D  \n",
       "838                       D  \n",
       "889                       D  "
      ]
     },
     "execution_count": 151,
     "metadata": {},
     "output_type": "execute_result"
    }
   ],
   "source": [
    "df_bod[df_bod['Name'] == 'ERWIN DAIN CANHAM']"
   ]
  },
  {
   "cell_type": "markdown",
   "metadata": {},
   "source": [
    "**Replaced NaN with Boston due to related rows**"
   ]
  },
  {
   "cell_type": "code",
   "execution_count": 157,
   "metadata": {},
   "outputs": [],
   "source": [
    "df_bod.loc[838, 'City'] = 'Boston'"
   ]
  },
  {
   "cell_type": "code",
   "execution_count": 132,
   "metadata": {},
   "outputs": [],
   "source": [
    "# data is too coarse, let's break down names into their parts\n",
    "def format_names(row):\n",
    "    name_dict = HumanName(row['Name']).as_dict()\n",
    "    for key in name_dict:\n",
    "        row[key] = name_dict[key]\n",
    "    row['middle_initial'] = row['middle'][0].replace('.', '') if row['middle'] != \"\" else np.nan\n",
    "    return row"
   ]
  },
  {
   "cell_type": "code",
   "execution_count": 133,
   "metadata": {},
   "outputs": [],
   "source": [
    "# Split \"Name\" column\n",
    "df_bod = df_bod.apply(format_names, axis=1)"
   ]
  },
  {
   "cell_type": "code",
   "execution_count": 160,
   "metadata": {},
   "outputs": [
    {
     "ename": "FileNotFoundError",
     "evalue": "[Errno 2] No such file or directory: 'formatted_data/2021-06-28_fed-board-of-directors.csv'",
     "output_type": "error",
     "traceback": [
      "\u001b[0;31m---------------------------------------------------------------------------\u001b[0m",
      "\u001b[0;31mFileNotFoundError\u001b[0m                         Traceback (most recent call last)",
      "\u001b[0;32m<ipython-input-160-a2ab76d9bd4e>\u001b[0m in \u001b[0;36m<module>\u001b[0;34m\u001b[0m\n\u001b[0;32m----> 1\u001b[0;31m \u001b[0mdf_bod\u001b[0m\u001b[0;34m.\u001b[0m\u001b[0mto_csv\u001b[0m\u001b[0;34m(\u001b[0m\u001b[0;34m'formatted_data/2021-06-28_fed-board-of-directors.csv'\u001b[0m\u001b[0;34m,\u001b[0m \u001b[0mindex\u001b[0m\u001b[0;34m=\u001b[0m\u001b[0;32mFalse\u001b[0m\u001b[0;34m)\u001b[0m\u001b[0;34m\u001b[0m\u001b[0;34m\u001b[0m\u001b[0m\n\u001b[0m",
      "\u001b[0;32m~/.pyenv/versions/3.8.10/lib/python3.8/site-packages/pandas/core/generic.py\u001b[0m in \u001b[0;36mto_csv\u001b[0;34m(self, path_or_buf, sep, na_rep, float_format, columns, header, index, index_label, mode, encoding, compression, quoting, quotechar, line_terminator, chunksize, date_format, doublequote, escapechar, decimal, errors, storage_options)\u001b[0m\n\u001b[1;32m   3385\u001b[0m         )\n\u001b[1;32m   3386\u001b[0m \u001b[0;34m\u001b[0m\u001b[0m\n\u001b[0;32m-> 3387\u001b[0;31m         return DataFrameRenderer(formatter).to_csv(\n\u001b[0m\u001b[1;32m   3388\u001b[0m             \u001b[0mpath_or_buf\u001b[0m\u001b[0;34m,\u001b[0m\u001b[0;34m\u001b[0m\u001b[0;34m\u001b[0m\u001b[0m\n\u001b[1;32m   3389\u001b[0m             \u001b[0mline_terminator\u001b[0m\u001b[0;34m=\u001b[0m\u001b[0mline_terminator\u001b[0m\u001b[0;34m,\u001b[0m\u001b[0;34m\u001b[0m\u001b[0;34m\u001b[0m\u001b[0m\n",
      "\u001b[0;32m~/.pyenv/versions/3.8.10/lib/python3.8/site-packages/pandas/io/formats/format.py\u001b[0m in \u001b[0;36mto_csv\u001b[0;34m(self, path_or_buf, encoding, sep, columns, index_label, mode, compression, quoting, quotechar, line_terminator, chunksize, date_format, doublequote, escapechar, errors, storage_options)\u001b[0m\n\u001b[1;32m   1081\u001b[0m             \u001b[0mformatter\u001b[0m\u001b[0;34m=\u001b[0m\u001b[0mself\u001b[0m\u001b[0;34m.\u001b[0m\u001b[0mfmt\u001b[0m\u001b[0;34m,\u001b[0m\u001b[0;34m\u001b[0m\u001b[0;34m\u001b[0m\u001b[0m\n\u001b[1;32m   1082\u001b[0m         )\n\u001b[0;32m-> 1083\u001b[0;31m         \u001b[0mcsv_formatter\u001b[0m\u001b[0;34m.\u001b[0m\u001b[0msave\u001b[0m\u001b[0;34m(\u001b[0m\u001b[0;34m)\u001b[0m\u001b[0;34m\u001b[0m\u001b[0;34m\u001b[0m\u001b[0m\n\u001b[0m\u001b[1;32m   1084\u001b[0m \u001b[0;34m\u001b[0m\u001b[0m\n\u001b[1;32m   1085\u001b[0m         \u001b[0;32mif\u001b[0m \u001b[0mcreated_buffer\u001b[0m\u001b[0;34m:\u001b[0m\u001b[0;34m\u001b[0m\u001b[0;34m\u001b[0m\u001b[0m\n",
      "\u001b[0;32m~/.pyenv/versions/3.8.10/lib/python3.8/site-packages/pandas/io/formats/csvs.py\u001b[0m in \u001b[0;36msave\u001b[0;34m(self)\u001b[0m\n\u001b[1;32m    226\u001b[0m         \"\"\"\n\u001b[1;32m    227\u001b[0m         \u001b[0;31m# apply compression and byte/text conversion\u001b[0m\u001b[0;34m\u001b[0m\u001b[0;34m\u001b[0m\u001b[0;34m\u001b[0m\u001b[0m\n\u001b[0;32m--> 228\u001b[0;31m         with get_handle(\n\u001b[0m\u001b[1;32m    229\u001b[0m             \u001b[0mself\u001b[0m\u001b[0;34m.\u001b[0m\u001b[0mfilepath_or_buffer\u001b[0m\u001b[0;34m,\u001b[0m\u001b[0;34m\u001b[0m\u001b[0;34m\u001b[0m\u001b[0m\n\u001b[1;32m    230\u001b[0m             \u001b[0mself\u001b[0m\u001b[0;34m.\u001b[0m\u001b[0mmode\u001b[0m\u001b[0;34m,\u001b[0m\u001b[0;34m\u001b[0m\u001b[0;34m\u001b[0m\u001b[0m\n",
      "\u001b[0;32m~/.pyenv/versions/3.8.10/lib/python3.8/site-packages/pandas/io/common.py\u001b[0m in \u001b[0;36mget_handle\u001b[0;34m(path_or_buf, mode, encoding, compression, memory_map, is_text, errors, storage_options)\u001b[0m\n\u001b[1;32m    645\u001b[0m                 \u001b[0merrors\u001b[0m \u001b[0;34m=\u001b[0m \u001b[0;34m\"replace\"\u001b[0m\u001b[0;34m\u001b[0m\u001b[0;34m\u001b[0m\u001b[0m\n\u001b[1;32m    646\u001b[0m             \u001b[0;31m# Encoding\u001b[0m\u001b[0;34m\u001b[0m\u001b[0;34m\u001b[0m\u001b[0;34m\u001b[0m\u001b[0m\n\u001b[0;32m--> 647\u001b[0;31m             handle = open(\n\u001b[0m\u001b[1;32m    648\u001b[0m                 \u001b[0mhandle\u001b[0m\u001b[0;34m,\u001b[0m\u001b[0;34m\u001b[0m\u001b[0;34m\u001b[0m\u001b[0m\n\u001b[1;32m    649\u001b[0m                 \u001b[0mioargs\u001b[0m\u001b[0;34m.\u001b[0m\u001b[0mmode\u001b[0m\u001b[0;34m,\u001b[0m\u001b[0;34m\u001b[0m\u001b[0;34m\u001b[0m\u001b[0m\n",
      "\u001b[0;31mFileNotFoundError\u001b[0m: [Errno 2] No such file or directory: 'formatted_data/2021-06-28_fed-board-of-directors.csv'"
     ]
    }
   ],
   "source": [
    "df_bod.to_csv('formatted_data/2021-06-28_fed-board-of-directors.csv', index=False)"
   ]
  },
  {
   "cell_type": "code",
   "execution_count": null,
   "metadata": {},
   "outputs": [],
   "source": []
  }
 ],
 "metadata": {
  "kernelspec": {
   "display_name": "Lede2021-fTxvBHm",
   "language": "python",
   "name": "lede2021-ftxvbhm"
  },
  "language_info": {
   "codemirror_mode": {
    "name": "ipython",
    "version": 3
   },
   "file_extension": ".py",
   "mimetype": "text/x-python",
   "name": "python",
   "nbconvert_exporter": "python",
   "pygments_lexer": "ipython3",
   "version": "3.8.10"
  }
 },
 "nbformat": 4,
 "nbformat_minor": 4
}
